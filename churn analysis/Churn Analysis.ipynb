{
 "cells": [
  {
   "cell_type": "code",
   "execution_count": 1,
   "metadata": {
    "collapsed": true
   },
   "outputs": [],
   "source": [
    "# Import required libs\n",
    "from sklearn.svm import SVC\n",
    "from sklearn.neighbors import KNeighborsClassifier\n",
    "from sklearn.tree import DecisionTreeClassifier\n",
    "from sklearn.ensemble import RandomForestClassifier, ExtraTreesClassifier\n",
    "from sklearn.linear_model import SGDClassifier\n",
    "from sklearn.preprocessing import StandardScaler\n",
    "from sklearn.metrics import accuracy_score, accuracy_score\n",
    "from sklearn.model_selection import GridSearchCV, ParameterGrid, KFold\n",
    "from sklearn.pipeline import Pipeline\n",
    "from sklearn.externals import joblib\n",
    "import seaborn as sns\n",
    "import pandas as pd\n",
    "%matplotlib inline"
   ]
  },
  {
   "cell_type": "code",
   "execution_count": 2,
   "metadata": {
    "collapsed": true
   },
   "outputs": [],
   "source": [
    "# Read data\n",
    "training_data = pd.read_csv(\"churn-bigml-80.csv\")\n",
    "test_data = pd.read_csv(\"churn-bigml-20.csv\")"
   ]
  },
  {
   "cell_type": "code",
   "execution_count": 3,
   "metadata": {
    "scrolled": false
   },
   "outputs": [
    {
     "data": {
      "text/html": [
       "<div>\n",
       "<table border=\"1\" class=\"dataframe\">\n",
       "  <thead>\n",
       "    <tr style=\"text-align: right;\">\n",
       "      <th></th>\n",
       "      <th>State</th>\n",
       "      <th>Account length</th>\n",
       "      <th>Area code</th>\n",
       "      <th>International plan</th>\n",
       "      <th>Voice mail plan</th>\n",
       "      <th>Number vmail messages</th>\n",
       "      <th>Total day minutes</th>\n",
       "      <th>Total day calls</th>\n",
       "      <th>Total day charge</th>\n",
       "      <th>Total eve minutes</th>\n",
       "      <th>Total eve calls</th>\n",
       "      <th>Total eve charge</th>\n",
       "      <th>Total night minutes</th>\n",
       "      <th>Total night calls</th>\n",
       "      <th>Total night charge</th>\n",
       "      <th>Total intl minutes</th>\n",
       "      <th>Total intl calls</th>\n",
       "      <th>Total intl charge</th>\n",
       "      <th>Customer service calls</th>\n",
       "      <th>Churn</th>\n",
       "    </tr>\n",
       "  </thead>\n",
       "  <tbody>\n",
       "    <tr>\n",
       "      <th>0</th>\n",
       "      <td>KS</td>\n",
       "      <td>128</td>\n",
       "      <td>415</td>\n",
       "      <td>No</td>\n",
       "      <td>Yes</td>\n",
       "      <td>25</td>\n",
       "      <td>265.1</td>\n",
       "      <td>110</td>\n",
       "      <td>45.07</td>\n",
       "      <td>197.4</td>\n",
       "      <td>99</td>\n",
       "      <td>16.78</td>\n",
       "      <td>244.7</td>\n",
       "      <td>91</td>\n",
       "      <td>11.01</td>\n",
       "      <td>10.0</td>\n",
       "      <td>3</td>\n",
       "      <td>2.70</td>\n",
       "      <td>1</td>\n",
       "      <td>False</td>\n",
       "    </tr>\n",
       "    <tr>\n",
       "      <th>1</th>\n",
       "      <td>OH</td>\n",
       "      <td>107</td>\n",
       "      <td>415</td>\n",
       "      <td>No</td>\n",
       "      <td>Yes</td>\n",
       "      <td>26</td>\n",
       "      <td>161.6</td>\n",
       "      <td>123</td>\n",
       "      <td>27.47</td>\n",
       "      <td>195.5</td>\n",
       "      <td>103</td>\n",
       "      <td>16.62</td>\n",
       "      <td>254.4</td>\n",
       "      <td>103</td>\n",
       "      <td>11.45</td>\n",
       "      <td>13.7</td>\n",
       "      <td>3</td>\n",
       "      <td>3.70</td>\n",
       "      <td>1</td>\n",
       "      <td>False</td>\n",
       "    </tr>\n",
       "    <tr>\n",
       "      <th>2</th>\n",
       "      <td>NJ</td>\n",
       "      <td>137</td>\n",
       "      <td>415</td>\n",
       "      <td>No</td>\n",
       "      <td>No</td>\n",
       "      <td>0</td>\n",
       "      <td>243.4</td>\n",
       "      <td>114</td>\n",
       "      <td>41.38</td>\n",
       "      <td>121.2</td>\n",
       "      <td>110</td>\n",
       "      <td>10.30</td>\n",
       "      <td>162.6</td>\n",
       "      <td>104</td>\n",
       "      <td>7.32</td>\n",
       "      <td>12.2</td>\n",
       "      <td>5</td>\n",
       "      <td>3.29</td>\n",
       "      <td>0</td>\n",
       "      <td>False</td>\n",
       "    </tr>\n",
       "    <tr>\n",
       "      <th>3</th>\n",
       "      <td>OH</td>\n",
       "      <td>84</td>\n",
       "      <td>408</td>\n",
       "      <td>Yes</td>\n",
       "      <td>No</td>\n",
       "      <td>0</td>\n",
       "      <td>299.4</td>\n",
       "      <td>71</td>\n",
       "      <td>50.90</td>\n",
       "      <td>61.9</td>\n",
       "      <td>88</td>\n",
       "      <td>5.26</td>\n",
       "      <td>196.9</td>\n",
       "      <td>89</td>\n",
       "      <td>8.86</td>\n",
       "      <td>6.6</td>\n",
       "      <td>7</td>\n",
       "      <td>1.78</td>\n",
       "      <td>2</td>\n",
       "      <td>False</td>\n",
       "    </tr>\n",
       "    <tr>\n",
       "      <th>4</th>\n",
       "      <td>OK</td>\n",
       "      <td>75</td>\n",
       "      <td>415</td>\n",
       "      <td>Yes</td>\n",
       "      <td>No</td>\n",
       "      <td>0</td>\n",
       "      <td>166.7</td>\n",
       "      <td>113</td>\n",
       "      <td>28.34</td>\n",
       "      <td>148.3</td>\n",
       "      <td>122</td>\n",
       "      <td>12.61</td>\n",
       "      <td>186.9</td>\n",
       "      <td>121</td>\n",
       "      <td>8.41</td>\n",
       "      <td>10.1</td>\n",
       "      <td>3</td>\n",
       "      <td>2.73</td>\n",
       "      <td>3</td>\n",
       "      <td>False</td>\n",
       "    </tr>\n",
       "  </tbody>\n",
       "</table>\n",
       "</div>"
      ],
      "text/plain": [
       "  State  Account length  Area code International plan Voice mail plan  \\\n",
       "0    KS             128        415                 No             Yes   \n",
       "1    OH             107        415                 No             Yes   \n",
       "2    NJ             137        415                 No              No   \n",
       "3    OH              84        408                Yes              No   \n",
       "4    OK              75        415                Yes              No   \n",
       "\n",
       "   Number vmail messages  Total day minutes  Total day calls  \\\n",
       "0                     25              265.1              110   \n",
       "1                     26              161.6              123   \n",
       "2                      0              243.4              114   \n",
       "3                      0              299.4               71   \n",
       "4                      0              166.7              113   \n",
       "\n",
       "   Total day charge  Total eve minutes  Total eve calls  Total eve charge  \\\n",
       "0             45.07              197.4               99             16.78   \n",
       "1             27.47              195.5              103             16.62   \n",
       "2             41.38              121.2              110             10.30   \n",
       "3             50.90               61.9               88              5.26   \n",
       "4             28.34              148.3              122             12.61   \n",
       "\n",
       "   Total night minutes  Total night calls  Total night charge  \\\n",
       "0                244.7                 91               11.01   \n",
       "1                254.4                103               11.45   \n",
       "2                162.6                104                7.32   \n",
       "3                196.9                 89                8.86   \n",
       "4                186.9                121                8.41   \n",
       "\n",
       "   Total intl minutes  Total intl calls  Total intl charge  \\\n",
       "0                10.0                 3               2.70   \n",
       "1                13.7                 3               3.70   \n",
       "2                12.2                 5               3.29   \n",
       "3                 6.6                 7               1.78   \n",
       "4                10.1                 3               2.73   \n",
       "\n",
       "   Customer service calls  Churn  \n",
       "0                       1  False  \n",
       "1                       1  False  \n",
       "2                       0  False  \n",
       "3                       2  False  \n",
       "4                       3  False  "
      ]
     },
     "execution_count": 3,
     "metadata": {},
     "output_type": "execute_result"
    }
   ],
   "source": [
    "training_data.head()"
   ]
  },
  {
   "cell_type": "code",
   "execution_count": 4,
   "metadata": {
    "collapsed": true
   },
   "outputs": [],
   "source": [
    "# Drop State and Area Code columns\n",
    "del training_data['State']\n",
    "del training_data['Area code']\n",
    "\n",
    "del test_data['State']\n",
    "del test_data['Area code']"
   ]
  },
  {
   "cell_type": "code",
   "execution_count": 5,
   "metadata": {
    "collapsed": true
   },
   "outputs": [],
   "source": [
    "# Split features and target\n",
    "X_train = training_data.ix[:, 0:17]\n",
    "y_train = training_data.ix[:, 17]\n",
    "X_test = test_data.ix[:, 0:17]\n",
    "y_test = test_data.ix[:, 17]"
   ]
  },
  {
   "cell_type": "code",
   "execution_count": 6,
   "metadata": {},
   "outputs": [
    {
     "data": {
      "text/html": [
       "<div>\n",
       "<table border=\"1\" class=\"dataframe\">\n",
       "  <thead>\n",
       "    <tr style=\"text-align: right;\">\n",
       "      <th></th>\n",
       "      <th>count</th>\n",
       "      <th>mean</th>\n",
       "      <th>std</th>\n",
       "      <th>min</th>\n",
       "      <th>25%</th>\n",
       "      <th>50%</th>\n",
       "      <th>75%</th>\n",
       "      <th>max</th>\n",
       "    </tr>\n",
       "  </thead>\n",
       "  <tbody>\n",
       "    <tr>\n",
       "      <th>Account length</th>\n",
       "      <td>2666.0</td>\n",
       "      <td>100.620405</td>\n",
       "      <td>39.563974</td>\n",
       "      <td>1.00</td>\n",
       "      <td>73.0000</td>\n",
       "      <td>100.00</td>\n",
       "      <td>127.000</td>\n",
       "      <td>243.00</td>\n",
       "    </tr>\n",
       "    <tr>\n",
       "      <th>Number vmail messages</th>\n",
       "      <td>2666.0</td>\n",
       "      <td>8.021755</td>\n",
       "      <td>13.612277</td>\n",
       "      <td>0.00</td>\n",
       "      <td>0.0000</td>\n",
       "      <td>0.00</td>\n",
       "      <td>19.000</td>\n",
       "      <td>50.00</td>\n",
       "    </tr>\n",
       "    <tr>\n",
       "      <th>Total day minutes</th>\n",
       "      <td>2666.0</td>\n",
       "      <td>179.481620</td>\n",
       "      <td>54.210350</td>\n",
       "      <td>0.00</td>\n",
       "      <td>143.4000</td>\n",
       "      <td>179.95</td>\n",
       "      <td>215.900</td>\n",
       "      <td>350.80</td>\n",
       "    </tr>\n",
       "    <tr>\n",
       "      <th>Total day calls</th>\n",
       "      <td>2666.0</td>\n",
       "      <td>100.310203</td>\n",
       "      <td>19.988162</td>\n",
       "      <td>0.00</td>\n",
       "      <td>87.0000</td>\n",
       "      <td>101.00</td>\n",
       "      <td>114.000</td>\n",
       "      <td>160.00</td>\n",
       "    </tr>\n",
       "    <tr>\n",
       "      <th>Total day charge</th>\n",
       "      <td>2666.0</td>\n",
       "      <td>30.512404</td>\n",
       "      <td>9.215733</td>\n",
       "      <td>0.00</td>\n",
       "      <td>24.3800</td>\n",
       "      <td>30.59</td>\n",
       "      <td>36.700</td>\n",
       "      <td>59.64</td>\n",
       "    </tr>\n",
       "    <tr>\n",
       "      <th>Total eve minutes</th>\n",
       "      <td>2666.0</td>\n",
       "      <td>200.386159</td>\n",
       "      <td>50.951515</td>\n",
       "      <td>0.00</td>\n",
       "      <td>165.3000</td>\n",
       "      <td>200.90</td>\n",
       "      <td>235.100</td>\n",
       "      <td>363.70</td>\n",
       "    </tr>\n",
       "    <tr>\n",
       "      <th>Total eve calls</th>\n",
       "      <td>2666.0</td>\n",
       "      <td>100.023631</td>\n",
       "      <td>20.161445</td>\n",
       "      <td>0.00</td>\n",
       "      <td>87.0000</td>\n",
       "      <td>100.00</td>\n",
       "      <td>114.000</td>\n",
       "      <td>170.00</td>\n",
       "    </tr>\n",
       "    <tr>\n",
       "      <th>Total eve charge</th>\n",
       "      <td>2666.0</td>\n",
       "      <td>17.033072</td>\n",
       "      <td>4.330864</td>\n",
       "      <td>0.00</td>\n",
       "      <td>14.0500</td>\n",
       "      <td>17.08</td>\n",
       "      <td>19.980</td>\n",
       "      <td>30.91</td>\n",
       "    </tr>\n",
       "    <tr>\n",
       "      <th>Total night minutes</th>\n",
       "      <td>2666.0</td>\n",
       "      <td>201.168942</td>\n",
       "      <td>50.780323</td>\n",
       "      <td>43.70</td>\n",
       "      <td>166.9250</td>\n",
       "      <td>201.15</td>\n",
       "      <td>236.475</td>\n",
       "      <td>395.00</td>\n",
       "    </tr>\n",
       "    <tr>\n",
       "      <th>Total night calls</th>\n",
       "      <td>2666.0</td>\n",
       "      <td>100.106152</td>\n",
       "      <td>19.418459</td>\n",
       "      <td>33.00</td>\n",
       "      <td>87.0000</td>\n",
       "      <td>100.00</td>\n",
       "      <td>113.000</td>\n",
       "      <td>166.00</td>\n",
       "    </tr>\n",
       "    <tr>\n",
       "      <th>Total night charge</th>\n",
       "      <td>2666.0</td>\n",
       "      <td>9.052689</td>\n",
       "      <td>2.285120</td>\n",
       "      <td>1.97</td>\n",
       "      <td>7.5125</td>\n",
       "      <td>9.05</td>\n",
       "      <td>10.640</td>\n",
       "      <td>17.77</td>\n",
       "    </tr>\n",
       "    <tr>\n",
       "      <th>Total intl minutes</th>\n",
       "      <td>2666.0</td>\n",
       "      <td>10.237022</td>\n",
       "      <td>2.788349</td>\n",
       "      <td>0.00</td>\n",
       "      <td>8.5000</td>\n",
       "      <td>10.20</td>\n",
       "      <td>12.100</td>\n",
       "      <td>20.00</td>\n",
       "    </tr>\n",
       "    <tr>\n",
       "      <th>Total intl calls</th>\n",
       "      <td>2666.0</td>\n",
       "      <td>4.467367</td>\n",
       "      <td>2.456195</td>\n",
       "      <td>0.00</td>\n",
       "      <td>3.0000</td>\n",
       "      <td>4.00</td>\n",
       "      <td>6.000</td>\n",
       "      <td>20.00</td>\n",
       "    </tr>\n",
       "    <tr>\n",
       "      <th>Total intl charge</th>\n",
       "      <td>2666.0</td>\n",
       "      <td>2.764490</td>\n",
       "      <td>0.752812</td>\n",
       "      <td>0.00</td>\n",
       "      <td>2.3000</td>\n",
       "      <td>2.75</td>\n",
       "      <td>3.270</td>\n",
       "      <td>5.40</td>\n",
       "    </tr>\n",
       "    <tr>\n",
       "      <th>Customer service calls</th>\n",
       "      <td>2666.0</td>\n",
       "      <td>1.562641</td>\n",
       "      <td>1.311236</td>\n",
       "      <td>0.00</td>\n",
       "      <td>1.0000</td>\n",
       "      <td>1.00</td>\n",
       "      <td>2.000</td>\n",
       "      <td>9.00</td>\n",
       "    </tr>\n",
       "  </tbody>\n",
       "</table>\n",
       "</div>"
      ],
      "text/plain": [
       "                         count        mean        std    min       25%  \\\n",
       "Account length          2666.0  100.620405  39.563974   1.00   73.0000   \n",
       "Number vmail messages   2666.0    8.021755  13.612277   0.00    0.0000   \n",
       "Total day minutes       2666.0  179.481620  54.210350   0.00  143.4000   \n",
       "Total day calls         2666.0  100.310203  19.988162   0.00   87.0000   \n",
       "Total day charge        2666.0   30.512404   9.215733   0.00   24.3800   \n",
       "Total eve minutes       2666.0  200.386159  50.951515   0.00  165.3000   \n",
       "Total eve calls         2666.0  100.023631  20.161445   0.00   87.0000   \n",
       "Total eve charge        2666.0   17.033072   4.330864   0.00   14.0500   \n",
       "Total night minutes     2666.0  201.168942  50.780323  43.70  166.9250   \n",
       "Total night calls       2666.0  100.106152  19.418459  33.00   87.0000   \n",
       "Total night charge      2666.0    9.052689   2.285120   1.97    7.5125   \n",
       "Total intl minutes      2666.0   10.237022   2.788349   0.00    8.5000   \n",
       "Total intl calls        2666.0    4.467367   2.456195   0.00    3.0000   \n",
       "Total intl charge       2666.0    2.764490   0.752812   0.00    2.3000   \n",
       "Customer service calls  2666.0    1.562641   1.311236   0.00    1.0000   \n",
       "\n",
       "                           50%      75%     max  \n",
       "Account length          100.00  127.000  243.00  \n",
       "Number vmail messages     0.00   19.000   50.00  \n",
       "Total day minutes       179.95  215.900  350.80  \n",
       "Total day calls         101.00  114.000  160.00  \n",
       "Total day charge         30.59   36.700   59.64  \n",
       "Total eve minutes       200.90  235.100  363.70  \n",
       "Total eve calls         100.00  114.000  170.00  \n",
       "Total eve charge         17.08   19.980   30.91  \n",
       "Total night minutes     201.15  236.475  395.00  \n",
       "Total night calls       100.00  113.000  166.00  \n",
       "Total night charge        9.05   10.640   17.77  \n",
       "Total intl minutes       10.20   12.100   20.00  \n",
       "Total intl calls          4.00    6.000   20.00  \n",
       "Total intl charge         2.75    3.270    5.40  \n",
       "Customer service calls    1.00    2.000    9.00  "
      ]
     },
     "execution_count": 6,
     "metadata": {},
     "output_type": "execute_result"
    }
   ],
   "source": [
    "X_train.describe().transpose()"
   ]
  },
  {
   "cell_type": "code",
   "execution_count": 7,
   "metadata": {},
   "outputs": [
    {
     "data": {
      "text/plain": [
       "<matplotlib.axes._subplots.AxesSubplot at 0x7f8131532668>"
      ]
     },
     "execution_count": 7,
     "metadata": {},
     "output_type": "execute_result"
    },
    {
     "data": {
      "image/png": "[encoded data removed]",
      "text/plain": [
       "<matplotlib.figure.Figure at 0x7f8131079978>"
      ]
     },
     "metadata": {},
     "output_type": "display_data"
    }
   ],
   "source": [
    "corr_matrix = X_train.corr()\n",
    "sns.heatmap(corr_matrix)"
   ]
  },
  {
   "cell_type": "code",
   "execution_count": 8,
   "metadata": {
    "scrolled": true
   },
   "outputs": [
    {
     "data": {
      "text/plain": [
       "<matplotlib.axes._subplots.AxesSubplot at 0x7f812d74ffd0>"
      ]
     },
     "execution_count": 8,
     "metadata": {},
     "output_type": "execute_result"
    },
    {
     "data": {
      "image/png": "[encoded data removed]",
      "text/plain": [
       "<matplotlib.figure.Figure at 0x7f812d6e54a8>"
      ]
     },
     "metadata": {},
     "output_type": "display_data"
    }
   ],
   "source": [
    "# Drop correlated columns\n",
    "columns = ['Total day minutes', 'Total eve minutes', 'Total night minutes', 'Total intl minutes']\n",
    "for column in columns:\n",
    "    del X_train[column]\n",
    "    del X_test[column]\n",
    "\n",
    "# Look again to correlation matrix \n",
    "corr_matrix = X_train.corr()\n",
    "sns.heatmap(corr_matrix)"
   ]
  },
  {
   "cell_type": "code",
   "execution_count": 9,
   "metadata": {
    "collapsed": true
   },
   "outputs": [],
   "source": [
    "# Encode categorical variables\n",
    "d = {'Yes':1,\n",
    "     'No':0}\n",
    "\n",
    "X_train['International plan'] = X_train['International plan'].map(d)\n",
    "X_train['Voice mail plan'] = X_train['Voice mail plan'].map(d)\n",
    "X_test['International plan'] = X_test['International plan'].map(d)\n",
    "X_test['Voice mail plan'] = X_test['Voice mail plan'].map(d)"
   ]
  },
  {
   "cell_type": "code",
   "execution_count": 10,
   "metadata": {
    "collapsed": true
   },
   "outputs": [],
   "source": [
    "# Create classifiers\n",
    "classifiers = {'linear_svm': SVC(kernel='linear'),\n",
    "       'poly_svm': SVC(kernel='poly'),\n",
    "       'rbf_svm': SVC(kernel='rbf'),\n",
    "       'knn_clf': KNeighborsClassifier(),\n",
    "       'dcs_clf': DecisionTreeClassifier(),\n",
    "       'rnd_clf': RandomForestClassifier(),\n",
    "       'ext_clf': ExtraTreesClassifier(),\n",
    "       'sgd_clf': SGDClassifier()\n",
    "      }"
   ]
  },
  {
   "cell_type": "code",
   "execution_count": 11,
   "metadata": {
    "collapsed": true
   },
   "outputs": [],
   "source": [
    "# Scale features\n",
    "scaler = StandardScaler()\n",
    "X_train = scaler.fit_transform(X_train)\n",
    "X_test = scaler.transform(X_test)"
   ]
  },
  {
   "cell_type": "code",
   "execution_count": 12,
   "metadata": {
    "scrolled": true
   },
   "outputs": [
    {
     "name": "stdout",
     "output_type": "stream",
     "text": [
      "linear_svm 0.857571214393\n",
      "poly_svm 0.926536731634\n",
      "rbf_svm 0.920539730135\n",
      "knn_clf 0.890554722639\n",
      "dcs_clf 0.91904047976\n",
      "rnd_clf 0.943028485757\n",
      "ext_clf 0.901049475262\n",
      "sgd_clf 0.84107946027\n"
     ]
    }
   ],
   "source": [
    "# Train each classifier with default parameters and look their scores\n",
    "for clf in classifiers:\n",
    "    classifiers[clf].fit(X_train, y_train)\n",
    "    print(clf, accuracy_score(y_test, classifiers[clf].predict(X_test)))"
   ]
  },
  {
   "cell_type": "code",
   "execution_count": 13,
   "metadata": {},
   "outputs": [],
   "source": [
    "# Pipeline\n",
    "pipeline = Pipeline([('scaler', StandardScaler()),\n",
    "                    ('rnd_clf', RandomForestClassifier())]\n",
    "                   )"
   ]
  },
  {
   "cell_type": "code",
   "execution_count": 14,
   "metadata": {},
   "outputs": [
    {
     "data": {
      "text/plain": [
       "Pipeline(steps=[('scaler', StandardScaler(copy=True, with_mean=True, with_std=True)), ('rnd_clf', RandomForestClassifier(bootstrap=True, class_weight=None, criterion='gini',\n",
       "            max_depth=None, max_features='auto', max_leaf_nodes=None,\n",
       "            min_impurity_split=1e-07, min_samples_leaf=1,\n",
       "            min_samples_split=2, min_weight_fraction_leaf=0.0,\n",
       "            n_estimators=10, n_jobs=1, oob_score=False, random_state=None,\n",
       "            verbose=0, warm_start=False))])"
      ]
     },
     "execution_count": 14,
     "metadata": {},
     "output_type": "execute_result"
    }
   ],
   "source": [
    "pipeline.fit(X_train, y_train)"
   ]
  },
  {
   "cell_type": "code",
   "execution_count": 15,
   "metadata": {},
   "outputs": [
    {
     "data": {
      "text/plain": [
       "['churn.pkl']"
      ]
     },
     "execution_count": 15,
     "metadata": {},
     "output_type": "execute_result"
    }
   ],
   "source": [
    "# Save model\n",
    "joblib.dump(pipeline, 'churn.pkl') "
   ]
  },
  {
   "cell_type": "code",
   "execution_count": 16,
   "metadata": {
    "collapsed": true
   },
   "outputs": [],
   "source": [
    "# Load model\n",
    "clf = joblib.load('churn.pkl')"
   ]
  }
 ],
 "metadata": {
  "kernelspec": {
   "display_name": "Python 3",
   "language": "python",
   "name": "python3"
  },
  "language_info": {
   "codemirror_mode": {
    "name": "ipython",
    "version": 3
   },
   "file_extension": ".py",
   "mimetype": "text/x-python",
   "name": "python",
   "nbconvert_exporter": "python",
   "pygments_lexer": "ipython3",
   "version": "3.6.0"
  }
 },
 "nbformat": 4,
 "nbformat_minor": 2
}
