{
 "cells": [
  {
   "cell_type": "code",
   "execution_count": 1,
   "metadata": {
    "collapsed": true
   },
   "outputs": [],
   "source": [
    "# Import Required Libs\n",
    "import numpy as np\n",
    "import matplotlib.pyplot as plt\n",
    "from sklearn.metrics import r2_score\n",
    "%matplotlib inline"
   ]
  },
  {
   "cell_type": "code",
   "execution_count": 2,
   "metadata": {
    "collapsed": true
   },
   "outputs": [],
   "source": [
    "# Generate some fake data\n",
    "np.random.seed(655)\n",
    "n = 100\n",
    "X = 6 * np.random.rand(n, 1) - 3\n",
    "y = 0.5 * X ** 2 + 2 + np.random.randn(n, 1)"
   ]
  },
  {
   "cell_type": "code",
   "execution_count": 3,
   "metadata": {},
   "outputs": [
    {
     "data": {
      "text/plain": [
       "<matplotlib.text.Text at 0x7f9507fa44a8>"
      ]
     },
     "execution_count": 3,
     "metadata": {},
     "output_type": "execute_result"
    },
    {
     "data": {
      "image/png": "[encoded data removed]",
      "text/plain": [
       "<matplotlib.figure.Figure at 0x7f9540216dd8>"
      ]
     },
     "metadata": {},
     "output_type": "display_data"
    }
   ],
   "source": [
    "# Plot the data\n",
    "plt.scatter(X, y)\n",
    "plt.xlabel('$x_{1}$')\n",
    "plt.ylabel('y')"
   ]
  },
  {
   "cell_type": "code",
   "execution_count": 4,
   "metadata": {},
   "outputs": [
    {
     "name": "stdout",
     "output_type": "stream",
     "text": [
      "Our polynomial is:\n",
      "         2\n",
      "0.4263 x - 0.04647 x + 2.149.\n"
     ]
    }
   ],
   "source": [
    "# Poly fit with numpy and score \n",
    "X = X.flatten() # np.polyfit wants 1D vector((100, )) for x and y, our X and y is (100, 1).\n",
    "y = y.flatten()\n",
    "p2 = np.poly1d(np.polyfit(X, y, 2))\n",
    "print(\"Our polynomial is:\\n {0}.\".format(p2))"
   ]
  },
  {
   "cell_type": "code",
   "execution_count": 5,
   "metadata": {},
   "outputs": [
    {
     "data": {
      "text/plain": [
       "<matplotlib.text.Text at 0x7f9507c75710>"
      ]
     },
     "execution_count": 5,
     "metadata": {},
     "output_type": "execute_result"
    },
    {
     "data": {
      "image/png": "[encoded data removed]",
      "text/plain": [
       "<matplotlib.figure.Figure at 0x7f9507cb9438>"
      ]
     },
     "metadata": {},
     "output_type": "display_data"
    }
   ],
   "source": [
    "# Visualize our polynomial\n",
    "xp = np.linspace(-3, 3, 100) # our X values in range (-3, 3)\n",
    "plt.scatter(X, y)\n",
    "plt.plot(xp, p2(xp), c='r')\n",
    "plt.xlabel('$x_{1}$')\n",
    "plt.ylabel('y')"
   ]
  },
  {
   "cell_type": "code",
   "execution_count": 6,
   "metadata": {},
   "outputs": [
    {
     "name": "stdout",
     "output_type": "stream",
     "text": [
      "Our r-squared score is: 0.5843426309206796.\n"
     ]
    }
   ],
   "source": [
    "# measure the r-squared error\n",
    "r2 = r2_score(y, p2(X))\n",
    "print(\"Our r-squared score is: {0}.\".format(r2))"
   ]
  }
 ],
 "metadata": {
  "kernelspec": {
   "display_name": "Python 3",
   "language": "python",
   "name": "python3"
  },
  "language_info": {
   "codemirror_mode": {
    "name": "ipython",
    "version": 3
   },
   "file_extension": ".py",
   "mimetype": "text/x-python",
   "name": "python",
   "nbconvert_exporter": "python",
   "pygments_lexer": "ipython3",
   "version": "3.6.0"
  }
 },
 "nbformat": 4,
 "nbformat_minor": 2
}
